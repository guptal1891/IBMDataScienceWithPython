{
  "nbformat": 4,
  "nbformat_minor": 0,
  "metadata": {
    "colab": {
      "name": "Python crashcourse Jan22 8PM.ipynb",
      "provenance": [],
      "authorship_tag": "ABX9TyO277nxQ1J3e8wVrn/ZTDFC",
      "include_colab_link": true
    },
    "kernelspec": {
      "name": "python3",
      "display_name": "Python 3"
    },
    "language_info": {
      "name": "python"
    }
  },
  "cells": [
    {
      "cell_type": "markdown",
      "metadata": {
        "id": "view-in-github",
        "colab_type": "text"
      },
      "source": [
        "<a href=\"https://colab.research.google.com/github/guptal1891/IBMDataScienceWithPython/blob/master/Python_crashcourse_Jan22_8PM.ipynb\" target=\"_parent\"><img src=\"https://colab.research.google.com/assets/colab-badge.svg\" alt=\"Open In Colab\"/></a>"
      ]
    },
    {
      "cell_type": "code",
      "execution_count": 14,
      "metadata": {
        "colab": {
          "base_uri": "https://localhost:8080/"
        },
        "id": "Wcr-4lQsXCOn",
        "outputId": "1215ca91-702a-4318-f89d-1357e80885c7"
      },
      "outputs": [
        {
          "output_type": "stream",
          "name": "stdout",
          "text": [
            "diameter of earth is 12734\n"
          ]
        }
      ],
      "source": [
        "#2 Using string formatting print: diameter of earth is 12734\n",
        "planet = 'earth'\n",
        "diameter = 12734\n",
        "print(f'diameter of {planet} is {diameter}')"
      ]
    },
    {
      "cell_type": "code",
      "source": [
        "help()"
      ],
      "metadata": {
        "colab": {
          "base_uri": "https://localhost:8080/"
        },
        "id": "LjUpnJELa3_H",
        "outputId": "6fd16692-87ac-494c-8789-0059f74c2668"
      },
      "execution_count": null,
      "outputs": [
        {
          "output_type": "stream",
          "name": "stdout",
          "text": [
            "\n",
            "Welcome to Python 3.7's help utility!\n",
            "\n",
            "If this is your first time using Python, you should definitely check out\n",
            "the tutorial on the Internet at https://docs.python.org/3.7/tutorial/.\n",
            "\n",
            "Enter the name of any module, keyword, or topic to get help on writing\n",
            "Python programs and using Python modules.  To quit this help utility and\n",
            "return to the interpreter, just type \"quit\".\n",
            "\n",
            "To get a list of available modules, keywords, symbols, or topics, type\n",
            "\"modules\", \"keywords\", \"symbols\", or \"topics\".  Each module also comes\n",
            "with a one-line summary of what it does; to list the modules whose name\n",
            "or summary contain a given string such as \"spam\", type \"modules spam\".\n",
            "\n",
            "help> quit\n",
            "\n",
            "You are now leaving help and returning to the Python interpreter.\n",
            "If you want to ask for help on a particular object directly from the\n",
            "interpreter, you can type \"help(object)\".  Executing \"help('string')\"\n",
            "has the same effect as typing a particular string at the help> prompt.\n"
          ]
        }
      ]
    },
    {
      "cell_type": "code",
      "source": [
        "set={}\n",
        "type(set)"
      ],
      "metadata": {
        "colab": {
          "base_uri": "https://localhost:8080/"
        },
        "id": "c28vk9kUWr4_",
        "outputId": "d8fd6ac2-5e46-4c2e-f78e-cc9e34fa61da"
      },
      "execution_count": 5,
      "outputs": [
        {
          "output_type": "execute_result",
          "data": {
            "text/plain": [
              "dict"
            ]
          },
          "metadata": {},
          "execution_count": 5
        }
      ]
    },
    {
      "cell_type": "code",
      "source": [
        "#get all the words in the string that contain *\n",
        "# hint split and then use a loop\n",
        "giftBox = 'bread iph*one butter ip*ad milk'\n",
        "# iph*one\n",
        "# ip*ad\n",
        "list=giftBox.split()\n",
        "print(list)\n",
        "\n",
        "for item in list:\n",
        "  if '*' in item:\n",
        "    print(item)"
      ],
      "metadata": {
        "colab": {
          "base_uri": "https://localhost:8080/"
        },
        "id": "iMaaIam0qtpv",
        "outputId": "a692ba98-5ff9-4bc6-d33f-1faf04283bd9"
      },
      "execution_count": 18,
      "outputs": [
        {
          "output_type": "stream",
          "name": "stdout",
          "text": [
            "['bread', 'iph*one', 'butter', 'ip*ad', 'milk']\n",
            "iph*one\n",
            "ip*ad\n"
          ]
        }
      ]
    },
    {
      "cell_type": "code",
      "source": [
        "#5 filter colors starting with vowel a, e, i, o, u\n",
        "colors = 'red orange blue indigo green'\n",
        "vowels = ['a', 'e', 'i', 'o', 'u']\n",
        "for item in colors.split():\n",
        "  if item[0] in vowels:\n",
        "    print(item)"
      ],
      "metadata": {
        "colab": {
          "base_uri": "https://localhost:8080/"
        },
        "id": "Bp5jn0aboXHk",
        "outputId": "48be38b5-2ca6-4570-da86-a5b1904a40c9"
      },
      "execution_count": 19,
      "outputs": [
        {
          "output_type": "stream",
          "name": "stdout",
          "text": [
            "orange\n",
            "indigo\n"
          ]
        }
      ]
    },
    {
      "cell_type": "code",
      "source": [
        "# 6 Given a nested list, grab and print 'hello'\n",
        "lst = [1,2,[3,4],[5,[100,200,[True,'hello'], False],'hi'],10,11]\n",
        "print(lst[3][1][2][1])"
      ],
      "metadata": {
        "colab": {
          "base_uri": "https://localhost:8080/"
        },
        "id": "rT-_o4AWo2AH",
        "outputId": "d78a273f-24b4-460b-b4b6-a3d452f0c2c9"
      },
      "execution_count": 22,
      "outputs": [
        {
          "output_type": "stream",
          "name": "stdout",
          "text": [
            "hello\n"
          ]
        }
      ]
    },
    {
      "cell_type": "code",
      "source": [
        "# 7 Given a nested dict, grab and print 'hello'\n",
        "# use indexes, dict keys and splitting of strings\n",
        "dct = {'here':[1,2,3,{'target':(False,{'color':'black','greetings':['hello world']})}]}\n",
        "\n",
        "\n",
        "\n",
        "print(dct['here'][3]['target'][1]['greetings'][0].split()[0])"
      ],
      "metadata": {
        "colab": {
          "base_uri": "https://localhost:8080/"
        },
        "id": "-A4uuao7vFKN",
        "outputId": "342f574e-0140-43a5-f304-0bdfe35e3bcc"
      },
      "execution_count": 33,
      "outputs": [
        {
          "output_type": "stream",
          "name": "stdout",
          "text": [
            "hello\n"
          ]
        }
      ]
    },
    {
      "cell_type": "code",
      "source": [
        "print(help())"
      ],
      "metadata": {
        "colab": {
          "base_uri": "https://localhost:8080/"
        },
        "id": "X56IRCKwXyY2",
        "outputId": "a8d582f6-1cc1-4e33-a4ea-c61d380c5eff"
      },
      "execution_count": null,
      "outputs": [
        {
          "output_type": "stream",
          "name": "stdout",
          "text": [
            "\n",
            "Welcome to Python 3.7's help utility!\n",
            "\n",
            "If this is your first time using Python, you should definitely check out\n",
            "the tutorial on the Internet at https://docs.python.org/3.7/tutorial/.\n",
            "\n",
            "Enter the name of any module, keyword, or topic to get help on writing\n",
            "Python programs and using Python modules.  To quit this help utility and\n",
            "return to the interpreter, just type \"quit\".\n",
            "\n",
            "To get a list of available modules, keywords, symbols, or topics, type\n",
            "\"modules\", \"keywords\", \"symbols\", or \"topics\".  Each module also comes\n",
            "with a one-line summary of what it does; to list the modules whose name\n",
            "or summary contain a given string such as \"spam\", type \"modules spam\".\n",
            "\n",
            "help> keywords\n",
            "\n",
            "Here is a list of the Python keywords.  Enter any keyword to get more help.\n",
            "\n",
            "False               class               from                or\n",
            "None                continue            global              pass\n",
            "True                def                 if                  raise\n",
            "and                 del                 import              return\n",
            "as                  elif                in                  try\n",
            "assert              else                is                  while\n",
            "async               except              lambda              with\n",
            "await               finally             nonlocal            yield\n",
            "break               for                 not                 \n",
            "\n",
            "help> exit\n",
            "No Python documentation found for 'exit'.\n",
            "Use help() to get the interactive help utility.\n",
            "Use help(str) for help on the str class.\n",
            "\n",
            "help> quit\n",
            "\n",
            "You are now leaving help and returning to the Python interpreter.\n",
            "If you want to ask for help on a particular object directly from the\n",
            "interpreter, you can type \"help(object)\".  Executing \"help('string')\"\n",
            "has the same effect as typing a particular string at the help> prompt.\n",
            "None\n"
          ]
        }
      ]
    },
    {
      "cell_type": "code",
      "source": [
        "# principal(int), rate of interest(float) and time(int)\n",
        "# calculate the Simple interest (int)\n",
        "# si = (p*r*t)/100\n",
        "principal = int(input(\"Enter principal\"))\n",
        "time = int(input(\"Enter time\"))\n",
        "interest = float(input(\"Enter Rate of interest\"))\n",
        "print(\"si=\", int((principal*interest*time)/100))"
      ],
      "metadata": {
        "colab": {
          "base_uri": "https://localhost:8080/"
        },
        "id": "NQu7yL4HtqPm",
        "outputId": "b55f0f6b-c095-43bd-a270-40709b35d4ea"
      },
      "execution_count": null,
      "outputs": [
        {
          "output_type": "stream",
          "name": "stdout",
          "text": [
            "Enter principal100\n",
            "Enter time1\n",
            "Enter Rate of interest2\n",
            "si= 2\n"
          ]
        }
      ]
    },
    {
      "cell_type": "code",
      "source": [
        "num=int(input('Enter a numbre'))\n",
        "if (num)==0:\n",
        "  print('Your number is neutral')\n",
        "elif num>=0:\n",
        "  print('Your number is positive')\n",
        "else:\n",
        "  print('your number is negative')"
      ],
      "metadata": {
        "colab": {
          "base_uri": "https://localhost:8080/"
        },
        "id": "DryTNg_BocR-",
        "outputId": "a93c941d-c0d6-45e9-8267-0ba9698e5f86"
      },
      "execution_count": null,
      "outputs": [
        {
          "output_type": "stream",
          "name": "stdout",
          "text": [
            "Enter a numbre0\n",
            "Your number is neutral\n"
          ]
        }
      ]
    },
    {
      "cell_type": "code",
      "source": [
        "# 8 Guess the number\n",
        "# generate a random between 1-10 and store it\n",
        "# then ask the user to enter a number \n",
        "# if the user choice is greater than computer choice say 'too high'\n",
        "# if the user choice is sm\n",
        "\n",
        "import random\n",
        "\n",
        "computerchoice = random.randint(1, 10)\n",
        "#print(f\"computer choice: {computerchoice}\")\n",
        "\n",
        "guesscount = 0\n",
        "for i in range(1,4):\n",
        "  userInput = int(input(\"Enter a number\"))\n",
        "\n",
        "  if computerchoice < userInput:\n",
        "    print(\"Too high\")\n",
        "  elif computerchoice > userInput:\n",
        "    print(\"Too low\")\n",
        "  else:\n",
        "    print(\"correct guess\")\n",
        "    break\n",
        "  guesscount = guesscount + 1\n",
        "\n",
        "if guesscount == 3:\n",
        "  print(\"your attemps are over!, Correct answer was:\", computerchoice)\n"
      ],
      "metadata": {
        "colab": {
          "base_uri": "https://localhost:8080/"
        },
        "id": "jgfum3g_cCoV",
        "outputId": "b6623280-0649-45e7-88e1-97f218899b16"
      },
      "execution_count": 52,
      "outputs": [
        {
          "output_type": "stream",
          "name": "stdout",
          "text": [
            "Enter a number4\n",
            "Too high\n",
            "Enter a number6\n",
            "Too high\n",
            "Enter a number3\n",
            "Too high\n",
            "your attemps are over!, Correct answer was: 2\n"
          ]
        }
      ]
    },
    {
      "cell_type": "code",
      "source": [
        "num = int(input(\"Enter a number\"))\n",
        "if num%2 == 0:\n",
        "  print (\"even\")\n",
        "else:\n",
        "  print(\"odd\")"
      ],
      "metadata": {
        "id": "6XDWqNqR2rmU",
        "colab": {
          "base_uri": "https://localhost:8080/"
        },
        "outputId": "9890058d-6145-4b82-f657-9fc67cd67166"
      },
      "execution_count": 54,
      "outputs": [
        {
          "output_type": "stream",
          "name": "stdout",
          "text": [
            "Enter a number2\n",
            "even\n"
          ]
        }
      ]
    },
    {
      "cell_type": "code",
      "source": [
        ""
      ],
      "metadata": {
        "id": "gYwovHgy8E-8"
      },
      "execution_count": null,
      "outputs": []
    }
  ]
}